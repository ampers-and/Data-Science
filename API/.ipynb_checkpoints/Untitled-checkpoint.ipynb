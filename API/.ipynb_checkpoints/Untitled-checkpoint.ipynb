{
 "cells": [
  {
   "cell_type": "code",
   "execution_count": 1,
   "metadata": {},
   "outputs": [],
   "source": [
    "from model import *"
   ]
  },
  {
   "cell_type": "code",
   "execution_count": 2,
   "metadata": {},
   "outputs": [
    {
     "data": {
      "text/plain": [
       "['Book',\n",
       " 'DB',\n",
       " 'In',\n",
       " 'Out',\n",
       " '_',\n",
       " '__',\n",
       " '___',\n",
       " '__builtin__',\n",
       " '__builtins__',\n",
       " '__doc__',\n",
       " '__loader__',\n",
       " '__name__',\n",
       " '__package__',\n",
       " '__spec__',\n",
       " '_dh',\n",
       " '_i',\n",
       " '_i1',\n",
       " '_i2',\n",
       " '_ih',\n",
       " '_ii',\n",
       " '_iii',\n",
       " '_oh',\n",
       " 'app',\n",
       " 'exit',\n",
       " 'get_ipython',\n",
       " 'quit']"
      ]
     },
     "execution_count": 2,
     "metadata": {},
     "output_type": "execute_result"
    }
   ],
   "source": [
    "dir()"
   ]
  },
  {
   "cell_type": "code",
   "execution_count": 3,
   "metadata": {},
   "outputs": [],
   "source": [
    "DB.create_all()"
   ]
  },
  {
   "cell_type": "code",
   "execution_count": 4,
   "metadata": {},
   "outputs": [],
   "source": [
    "import pandas as pd"
   ]
  },
  {
   "cell_type": "code",
   "execution_count": 5,
   "metadata": {},
   "outputs": [],
   "source": [
    "df = pd.read_csv('quarter.csv', encoding='utf8', engine='python')"
   ]
  },
  {
   "cell_type": "code",
   "execution_count": 7,
   "metadata": {},
   "outputs": [
    {
     "data": {
      "text/plain": [
       "0        Published       August 3rd 2006        by Waki...\n",
       "1        Published       September 22nd 2009        by ...\n",
       "2        Published       March 11th 2015        by Chat...\n",
       "3        Published       April 29th 2010        by Book...\n",
       "4        Published       May 13th 2018        by Betwee...\n",
       "5        Published       April 30th 2013        by Atri...\n",
       "6        Published       February 2nd 2010        by At...\n",
       "7                        Published       January 23rd 2019\n",
       "8        Published       June 30th 1998        by Vinta...\n",
       "9        Published       February 1st 2004        by Be...\n",
       "10       Published       November 7th 2000        by Br...\n",
       "11       Published       November 1st 2008        by Orbit\n",
       "12       Published       February 15th 1991        by P...\n",
       "13       Published       September 15th 1995        by ...\n",
       "14                       Published       January 16th 2019\n",
       "15       Published       June 2011        by Kiss Me Pu...\n",
       "16       Published       February 6th 2012        by Eg...\n",
       "17       Published       September 1st 2006        by B...\n",
       "18       Published       June 1999        by Pocket Boo...\n",
       "19       Published       May 4th 2010        by Simon  ...\n",
       "20       Published       March 11th 2019        by Chat...\n",
       "21       Published       February 27th 2003        by P...\n",
       "22       Published       September 25th 2003        by ...\n",
       "23       Published       September 6th 2006        by W...\n",
       "24       Published       October 15th 2013        by Di...\n",
       "25       Published       August 1st 2003        by Harp...\n",
       "26       Published       August 26th 2012        by Ski...\n",
       "27       Published       November 2nd 1998        by Co...\n",
       "28       Published       December 31st 1978        by S...\n",
       "29       Published       May 16th 2006        by Square...\n",
       "                               ...                        \n",
       "31439    Published       May 31st 2003        by NYRB C...\n",
       "31440    Published       October 31st 1998        by Sp...\n",
       "31441    Published       November 1st 1995        by Pr...\n",
       "31442    Published       April 4th 1995        by Schoc...\n",
       "31443    Published       September 24th 2002        by ...\n",
       "31444    Published       February 1st 1982        by Ba...\n",
       "31445    Published       October 9th 2001        by Scr...\n",
       "31446    Published       October 17th 2006        by Ha...\n",
       "31447    Published       October 7th 2003        by Har...\n",
       "31448    Published       December 20th 2000        by B...\n",
       "31449    Published       April 12th 2005        by Vint...\n",
       "31450    Published       May 10th 2007        by Razorb...\n",
       "31451    Published       July 1st 2003        by Ig Pub...\n",
       "31452    Published       October 1st 2002        by Spu...\n",
       "31453    Published       2006        by Maarten Munting...\n",
       "31454    Published       June 27th 2006        by Rando...\n",
       "31455    Published       October 1st 2005        by Ten...\n",
       "31456    Published       May 1st 2008        by HMH Boo...\n",
       "31457    Published       October 9th 2007        by Sim...\n",
       "31458         Published       1989        by Vortex Comics\n",
       "31459    Published       November 6th 2006        by Wa...\n",
       "31460    Published       February 10th 2004        by S...\n",
       "31461    Published       January 1st 1980        by Pen...\n",
       "31462    Published       February 1st 2003        by Fl...\n",
       "31463    Published       December 5th 1989        by Pe...\n",
       "31464    Published       October 1st 2007        by Bak...\n",
       "31465    Published       November 30th 2005        by G...\n",
       "31466    Published       June 17th 2005        by Fanta...\n",
       "31467    Published       December 12th 2008        by C...\n",
       "31468    Published       March 1st 1993        by Schol...\n",
       "Name: published_on, Length: 31469, dtype: object"
      ]
     },
     "execution_count": 7,
     "metadata": {},
     "output_type": "execute_result"
    }
   ],
   "source": [
    "df['published_on']"
   ]
  },
  {
   "cell_type": "code",
   "execution_count": 8,
   "metadata": {},
   "outputs": [],
   "source": [
    "for idx, row in df.iterrows(): \n",
    "    row['published_on'] = \" \".join(str(row['published_on']).split())"
   ]
  },
  {
   "cell_type": "code",
   "execution_count": 9,
   "metadata": {},
   "outputs": [
    {
     "data": {
      "text/plain": [
       "0        Published August 3rd 2006 by Waking Lion Press...\n",
       "1        Published September 22nd 2009 by Doubleday Nan...\n",
       "2        Published March 11th 2015 by Chatter Creek Pub...\n",
       "3          Published April 29th 2010 by Book Guild Limited\n",
       "4        Published May 13th 2018 by Between the Lines P...\n",
       "5                 Published April 30th 2013 by Atria Books\n",
       "6               Published February 2nd 2010 by Atria Books\n",
       "7                              Published January 23rd 2019\n",
       "8        Published June 30th 1998 by Vintage Contempora...\n",
       "9        Published February 1st 2004 by Beacon Press (f...\n",
       "10       Published November 7th 2000 by Broadview Press...\n",
       "11                    Published November 1st 2008 by Orbit\n",
       "12       Published February 15th 1991 by Pocket Books (...\n",
       "13              Published September 15th 1995 by Tor Books\n",
       "14                             Published January 16th 2019\n",
       "15             Published June 2011 by Kiss Me Publications\n",
       "16             Published February 6th 2012 by Egmont Press\n",
       "17       Published September 1st 2006 by Bloomsbury Chi...\n",
       "18       Published June 1999 by Pocket Books (first pub...\n",
       "19       Published May 4th 2010 by Simon Schuster Books...\n",
       "20       Published March 11th 2019 by Chattercreek (fir...\n",
       "21       Published February 27th 2003 by Penguin Classi...\n",
       "22       Published September 25th 2003 by Penguin Class...\n",
       "23       Published September 6th 2006 by Washington Squ...\n",
       "24          Published October 15th 2013 by Disney-Hyperion\n",
       "25       Published August 1st 2003 by Harpercollins Chi...\n",
       "26       Published August 26th 2012 by Skinny Leopard M...\n",
       "27       Published November 2nd 1998 by Collins (first ...\n",
       "28       Published December 31st 1978 by Simon & Schust...\n",
       "29       Published May 16th 2006 by Square Fish (first ...\n",
       "                               ...                        \n",
       "31439    Published May 31st 2003 by NYRB Classics (firs...\n",
       "31440    Published October 31st 1998 by Sparkle Street ...\n",
       "31441    Published November 1st 1995 by Prometheus Book...\n",
       "31442    Published April 4th 1995 by Schocken (first pu...\n",
       "31443    Published September 24th 2002 by Three Rivers ...\n",
       "31444    Published February 1st 1982 by Bantam (first p...\n",
       "31445               Published October 9th 2001 by Scribner\n",
       "31446    Published October 17th 2006 by Harper (first p...\n",
       "31447    Published October 7th 2003 by Harper Perennial...\n",
       "31448    Published December 20th 2000 by Borgo Press (f...\n",
       "31449    Published April 12th 2005 by Vintage (first pu...\n",
       "31450    Published May 10th 2007 by Razorbill (first pu...\n",
       "31451    Published July 1st 2003 by Ig Publishing (firs...\n",
       "31452         Published October 1st 2002 by Spuyten Duyvil\n",
       "31453    Published 2006 by Maarten Muntinga (first publ...\n",
       "31454    Published June 27th 2006 by Random House (firs...\n",
       "31455    Published October 1st 2005 by Ten Speed Press ...\n",
       "31456    Published May 1st 2008 by HMH Books for Young ...\n",
       "31457    Published October 9th 2007 by Simon Schuster (...\n",
       "31458                      Published 1989 by Vortex Comics\n",
       "31459     Published November 6th 2006 by Warner Books (NY)\n",
       "31460    Published February 10th 2004 by Scribner (firs...\n",
       "31461    Published January 1st 1980 by Penguin Canada (...\n",
       "31462    Published February 1st 2003 by Fleming H. Reve...\n",
       "31463    Published December 5th 1989 by Penguin Books (...\n",
       "31464            Published October 1st 2007 by Baker Books\n",
       "31465    Published November 30th 2005 by Grove Press (f...\n",
       "31466    Published June 17th 2005 by Fantagraphics (fir...\n",
       "31467    Published December 12th 2008 by Createspace (f...\n",
       "31468    Published March 1st 1993 by Scholastic Paperbacks\n",
       "Name: published_on, Length: 31469, dtype: object"
      ]
     },
     "execution_count": 9,
     "metadata": {},
     "output_type": "execute_result"
    }
   ],
   "source": [
    "df['published_on']"
   ]
  },
  {
   "cell_type": "code",
   "execution_count": 14,
   "metadata": {},
   "outputs": [],
   "source": [
    "df.to_csv(\"quarter.csv\")"
   ]
  },
  {
   "cell_type": "code",
   "execution_count": 16,
   "metadata": {},
   "outputs": [],
   "source": [
    "df1 = pd.read_csv('quarter.csv')"
   ]
  },
  {
   "cell_type": "code",
   "execution_count": 17,
   "metadata": {},
   "outputs": [
    {
     "data": {
      "text/plain": [
       "(31469, 15)"
      ]
     },
     "execution_count": 17,
     "metadata": {},
     "output_type": "execute_result"
    }
   ],
   "source": [
    "df1.shape"
   ]
  },
  {
   "cell_type": "code",
   "execution_count": 19,
   "metadata": {},
   "outputs": [],
   "source": [
    "df2 = pd.read_csv('quarter2.csv', encoding='utf8', engine='python')"
   ]
  },
  {
   "cell_type": "code",
   "execution_count": 20,
   "metadata": {},
   "outputs": [
    {
     "data": {
      "text/plain": [
       "(31469, 14)"
      ]
     },
     "execution_count": 20,
     "metadata": {},
     "output_type": "execute_result"
    }
   ],
   "source": [
    "df2.shape"
   ]
  },
  {
   "cell_type": "code",
   "execution_count": 21,
   "metadata": {},
   "outputs": [],
   "source": [
    "df2.to_csv(\"quarter2.csv\")"
   ]
  },
  {
   "cell_type": "code",
   "execution_count": 22,
   "metadata": {},
   "outputs": [],
   "source": [
    "df3 = pd.read_csv('quarter2.csv')"
   ]
  },
  {
   "cell_type": "code",
   "execution_count": 23,
   "metadata": {},
   "outputs": [
    {
     "data": {
      "text/plain": [
       "(31469, 15)"
      ]
     },
     "execution_count": 23,
     "metadata": {},
     "output_type": "execute_result"
    }
   ],
   "source": [
    "df3.shape"
   ]
  },
  {
   "cell_type": "code",
   "execution_count": null,
   "metadata": {},
   "outputs": [],
   "source": [
    "df.head(5)"
   ]
  },
  {
   "cell_type": "code",
   "execution_count": null,
   "metadata": {},
   "outputs": [],
   "source": [
    "df.shape"
   ]
  },
  {
   "cell_type": "code",
   "execution_count": null,
   "metadata": {},
   "outputs": [],
   "source": [
    "df.dtypes"
   ]
  },
  {
   "cell_type": "code",
   "execution_count": null,
   "metadata": {},
   "outputs": [],
   "source": [
    "df['rating'] = df['rating'].astype(float)"
   ]
  },
  {
   "cell_type": "code",
   "execution_count": null,
   "metadata": {},
   "outputs": [],
   "source": [
    "for idx, row in df.iterrows():\n",
    "    book = Book(webpage=row['n'], title=row['title'], author=row['author'], descrip=row['descrip'],\n",
    "                rating=row['rating'], num_ratings=row['num_ratings'], num_reviews=row['num_reviews'], \n",
    "                isbn=row['isbn'], isbn13=row['isbn13'], binding=row['binding'], edition=row['edition'], \n",
    "                num_pages=row['pages'], published_on=row['published_on'], genres=row['genres'])\n",
    "    DB.session.add(book)\n",
    "    DB.session.commit()"
   ]
  },
  {
   "cell_type": "code",
   "execution_count": null,
   "metadata": {},
   "outputs": [],
   "source": []
  }
 ],
 "metadata": {
  "kernelspec": {
   "display_name": "Python 3",
   "language": "python",
   "name": "python3"
  },
  "language_info": {
   "codemirror_mode": {
    "name": "ipython",
    "version": 3
   },
   "file_extension": ".py",
   "mimetype": "text/x-python",
   "name": "python",
   "nbconvert_exporter": "python",
   "pygments_lexer": "ipython3",
   "version": "3.7.3"
  }
 },
 "nbformat": 4,
 "nbformat_minor": 2
}
