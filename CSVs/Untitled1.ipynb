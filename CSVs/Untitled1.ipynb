{
 "cells": [
  {
   "cell_type": "code",
   "execution_count": 1,
   "metadata": {},
   "outputs": [],
   "source": [
    "from bs4 import BeautifulSoup\n",
    "import requests"
   ]
  },
  {
   "cell_type": "code",
   "execution_count": 2,
   "metadata": {},
   "outputs": [],
   "source": [
    "url = 'https://www.goodreads.com/book/show/31557841-the-jews-and-the-judaism-the-beginning-of-human-civilization-7000-years'"
   ]
  },
  {
   "cell_type": "code",
   "execution_count": 3,
   "metadata": {},
   "outputs": [],
   "source": [
    "source = requests.get(url)"
   ]
  },
  {
   "cell_type": "code",
   "execution_count": 4,
   "metadata": {},
   "outputs": [],
   "source": [
    "data = source.text"
   ]
  },
  {
   "cell_type": "code",
   "execution_count": 5,
   "metadata": {},
   "outputs": [],
   "source": [
    "soup = BeautifulSoup(data, 'lxml')"
   ]
  },
  {
   "cell_type": "code",
   "execution_count": 22,
   "metadata": {},
   "outputs": [
    {
     "data": {
      "text/plain": [
       "<div class=\"uitext\" id=\"bookDataBox\" style=\"display: none; margin: 10px 0\">\n",
       "<div class=\"clearFloats\">\n",
       "<div class=\"infoBoxRowTitle\">ISBN</div>\n",
       "<div class=\"infoBoxRowItem\">\n",
       "                  9549056341\n",
       "                      <span class=\"greyText\">(ISBN13: <span itemprop=\"isbn\">9789549056341</span>)</span>\n",
       "</div>\n",
       "</div>\n",
       "<div class=\"clearFloats\">\n",
       "<div class=\"infoBoxRowTitle\">Edition Language</div>\n",
       "<div class=\"infoBoxRowItem\" itemprop=\"inLanguage\">English</div>\n",
       "</div>\n",
       "<div class=\"clear\"></div>\n",
       "<div class=\"infoBoxRowTitle otherEditions\">\n",
       "Other Editions\n",
       "</div>\n",
       "<div class=\"infoBoxRowItem\">\n",
       "<div class=\"darkGreyText noEditionsText uitext\">\n",
       "None found\n",
       "</div>\n",
       "<div class=\"otherEditionsActions\">\n",
       "<a class=\"actionLinkLite\" href=\"/work/editions/52240350-the-jews-and-the-judaism-the-beginning-of-human-civilization-7000-years\">All Editions</a>\n",
       "<span class=\"greyText\">\n",
       " | \n",
       "</span>\n",
       "<a href=\"/book/new?author%5Bname%5D=Nikolay+Panayotov&amp;book%5Btitle%5D=The+Jews+and+the+Judaism+the+beginning+of+human+civilization+7000+years+ago&amp;work%5Bid%5D=52240350\" rel=\"nofollow\">Add a New Edition</a>\n",
       "<span class=\"secondaryCopy\">\n",
       " | \n",
       "</span>\n",
       "<a class=\"actionLinkLite\" href=\"/book/combine/15643045\" rel=\"nofollow\">Combine</a>\n",
       "</div>\n",
       "</div>\n",
       "</div>"
      ]
     },
     "execution_count": 22,
     "metadata": {},
     "output_type": "execute_result"
    }
   ],
   "source": [
    "info = soup.find('div', id='bookDataBox', class_='uitext')\n",
    "info"
   ]
  },
  {
   "cell_type": "code",
   "execution_count": 24,
   "metadata": {},
   "outputs": [],
   "source": [
    "row_title = info.find_all('div', class_='infoBoxRowTitle')\n",
    "row_item = info.find_all('div', class_='infoBoxRowItem')"
   ]
  },
  {
   "cell_type": "code",
   "execution_count": null,
   "metadata": {},
   "outputs": [],
   "source": []
  },
  {
   "cell_type": "code",
   "execution_count": 34,
   "metadata": {
    "scrolled": true
   },
   "outputs": [
    {
     "name": "stdout",
     "output_type": "stream",
     "text": [
      "9549056341 9789549056341)\n"
     ]
    }
   ],
   "source": [
    "for each in zip(row_title, row_item):\n",
    "    if each[0].text == 'ISBN':\n",
    "        isbn_info = each[1].text.split()\n",
    "        isbn = isbn_info[0]\n",
    "        isbn13 = isbn_info[-1]\n",
    "\n",
    "print(isbn, isbn13)"
   ]
  },
  {
   "cell_type": "code",
   "execution_count": 18,
   "metadata": {},
   "outputs": [
    {
     "name": "stdout",
     "output_type": "stream",
     "text": [
      "0\n",
      "<div class=\"uitext\" id=\"bookDataBox\" style=\"display: none; margin: 10px 0\">\n",
      "<div class=\"clearFloats\">\n",
      "<div class=\"infoBoxRowTitle\">ISBN</div>\n",
      "<div class=\"infoBoxRowItem\">\n",
      "                  9549056341\n",
      "                      <span class=\"greyText\">(ISBN13: <span itemprop=\"isbn\">9789549056341</span>)</span>\n",
      "</div>\n",
      "</div>\n",
      "<div class=\"clearFloats\">\n",
      "<div class=\"infoBoxRowTitle\">Edition Language</div>\n",
      "<div class=\"infoBoxRowItem\" itemprop=\"inLanguage\">English</div>\n",
      "</div>\n",
      "<div class=\"clear\"></div>\n",
      "<div class=\"infoBoxRowTitle otherEditions\">\n",
      "Other Editions\n",
      "</div>\n",
      "<div class=\"infoBoxRowItem\">\n",
      "<div class=\"darkGreyText noEditionsText uitext\">\n",
      "None found\n",
      "</div>\n",
      "<div class=\"otherEditionsActions\">\n",
      "<a class=\"actionLinkLite\" href=\"/work/editions/52240350-the-jews-and-the-judaism-the-beginning-of-human-civilization-7000-years\">All Editions</a>\n",
      "<span class=\"greyText\">\n",
      " | \n",
      "</span>\n",
      "<a href=\"/book/new?author%5Bname%5D=Nikolay+Panayotov&amp;book%5Btitle%5D=The+Jews+and+the+Judaism+the+beginning+of+human+civilization+7000+years+ago&amp;work%5Bid%5D=52240350\" rel=\"nofollow\">Add a New Edition</a>\n",
      "<span class=\"secondaryCopy\">\n",
      " | \n",
      "</span>\n",
      "<a class=\"actionLinkLite\" href=\"/book/combine/15643045\" rel=\"nofollow\">Combine</a>\n",
      "</div>\n",
      "</div>\n",
      "</div>\n"
     ]
    }
   ],
   "source": [
    "count = 0\n",
    "for each in info:\n",
    "    print(count)\n",
    "    print(each)\n",
    "    count += 1"
   ]
  },
  {
   "cell_type": "code",
   "execution_count": 12,
   "metadata": {},
   "outputs": [],
   "source": [
    "isbn = info.find('div', class_='infoBoxRowItem').text"
   ]
  },
  {
   "cell_type": "code",
   "execution_count": 13,
   "metadata": {},
   "outputs": [
    {
     "data": {
      "text/plain": [
       "'\\n                  9549056341\\n                      (ISBN13: 9789549056341)\\n'"
      ]
     },
     "execution_count": 13,
     "metadata": {},
     "output_type": "execute_result"
    }
   ],
   "source": [
    "isbn"
   ]
  },
  {
   "cell_type": "code",
   "execution_count": 14,
   "metadata": {},
   "outputs": [
    {
     "data": {
      "text/plain": [
       "['9549056341', '(ISBN13:', '9789549056341)']"
      ]
     },
     "execution_count": 14,
     "metadata": {},
     "output_type": "execute_result"
    }
   ],
   "source": [
    "isbn.split()"
   ]
  },
  {
   "cell_type": "code",
   "execution_count": 37,
   "metadata": {},
   "outputs": [],
   "source": [
    "info = soup.find('div', id='bookDataBox', class_='uitext')\n",
    "row_title = info.find_all('div', class_='infoBoxRowTitle')\n",
    "row_item = info.find_all('div', class_='infoBoxRowItem')\n",
    "for each in zip(row_title, row_item):\n",
    "    if each[0].text == 'ISBN':\n",
    "        isbn_info = each[1].text.split()\n",
    "        isbn = isbn_info[0]\n",
    "        isbn13 = isbn_info[-1]"
   ]
  },
  {
   "cell_type": "code",
   "execution_count": 38,
   "metadata": {},
   "outputs": [
    {
     "data": {
      "text/plain": [
       "'9549056341'"
      ]
     },
     "execution_count": 38,
     "metadata": {},
     "output_type": "execute_result"
    }
   ],
   "source": [
    "isbn"
   ]
  },
  {
   "cell_type": "code",
   "execution_count": 39,
   "metadata": {},
   "outputs": [
    {
     "data": {
      "text/plain": [
       "'9789549056341)'"
      ]
     },
     "execution_count": 39,
     "metadata": {},
     "output_type": "execute_result"
    }
   ],
   "source": [
    "isbn13"
   ]
  },
  {
   "cell_type": "code",
   "execution_count": null,
   "metadata": {},
   "outputs": [],
   "source": []
  }
 ],
 "metadata": {
  "kernelspec": {
   "display_name": "Python 3",
   "language": "python",
   "name": "python3"
  },
  "language_info": {
   "codemirror_mode": {
    "name": "ipython",
    "version": 3
   },
   "file_extension": ".py",
   "mimetype": "text/x-python",
   "name": "python",
   "nbconvert_exporter": "python",
   "pygments_lexer": "ipython3",
   "version": "3.7.3"
  }
 },
 "nbformat": 4,
 "nbformat_minor": 2
}
