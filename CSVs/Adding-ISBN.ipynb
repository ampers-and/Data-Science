{
 "cells": [
  {
   "cell_type": "code",
   "execution_count": 1,
   "metadata": {},
   "outputs": [],
   "source": [
    "import pandas as pd"
   ]
  },
  {
   "cell_type": "code",
   "execution_count": 3,
   "metadata": {},
   "outputs": [],
   "source": [
    "df = pd.read_csv('10K_clean.csv', engine='python')"
   ]
  },
  {
   "cell_type": "code",
   "execution_count": 4,
   "metadata": {},
   "outputs": [],
   "source": [
    "isbn = pd.read_csv('missing_isbn.csv')"
   ]
  },
  {
   "cell_type": "code",
   "execution_count": 5,
   "metadata": {},
   "outputs": [
    {
     "data": {
      "text/plain": [
       "(9935, 15)"
      ]
     },
     "execution_count": 5,
     "metadata": {},
     "output_type": "execute_result"
    }
   ],
   "source": [
    "df.shape"
   ]
  },
  {
   "cell_type": "code",
   "execution_count": 6,
   "metadata": {},
   "outputs": [
    {
     "data": {
      "text/plain": [
       "(639, 3)"
      ]
     },
     "execution_count": 6,
     "metadata": {},
     "output_type": "execute_result"
    }
   ],
   "source": [
    "isbn.shape"
   ]
  },
  {
   "cell_type": "code",
   "execution_count": 9,
   "metadata": {},
   "outputs": [
    {
     "data": {
      "text/html": [
       "<div>\n",
       "<style scoped>\n",
       "    .dataframe tbody tr th:only-of-type {\n",
       "        vertical-align: middle;\n",
       "    }\n",
       "\n",
       "    .dataframe tbody tr th {\n",
       "        vertical-align: top;\n",
       "    }\n",
       "\n",
       "    .dataframe thead th {\n",
       "        text-align: right;\n",
       "    }\n",
       "</style>\n",
       "<table border=\"1\" class=\"dataframe\">\n",
       "  <thead>\n",
       "    <tr style=\"text-align: right;\">\n",
       "      <th></th>\n",
       "      <th>n</th>\n",
       "      <th>isbn</th>\n",
       "      <th>isbn13</th>\n",
       "    </tr>\n",
       "  </thead>\n",
       "  <tbody>\n",
       "    <tr>\n",
       "      <th>0</th>\n",
       "      <td>27371034</td>\n",
       "      <td>The</td>\n",
       "      <td>Meluha</td>\n",
       "    </tr>\n",
       "    <tr>\n",
       "      <th>1</th>\n",
       "      <td>7897851</td>\n",
       "      <td>184624417X</td>\n",
       "      <td>9781846244179)</td>\n",
       "    </tr>\n",
       "    <tr>\n",
       "      <th>2</th>\n",
       "      <td>40121205</td>\n",
       "      <td>184624417X</td>\n",
       "      <td>9781846244179)</td>\n",
       "    </tr>\n",
       "    <tr>\n",
       "      <th>3</th>\n",
       "      <td>43600950</td>\n",
       "      <td>1793378673</td>\n",
       "      <td>9781793378675)</td>\n",
       "    </tr>\n",
       "    <tr>\n",
       "      <th>4</th>\n",
       "      <td>44575575</td>\n",
       "      <td>1793378673</td>\n",
       "      <td>9781793378675)</td>\n",
       "    </tr>\n",
       "    <tr>\n",
       "      <th>5</th>\n",
       "      <td>17623975</td>\n",
       "      <td>0142422959</td>\n",
       "      <td>9780142422953)</td>\n",
       "    </tr>\n",
       "    <tr>\n",
       "      <th>6</th>\n",
       "      <td>35231</td>\n",
       "      <td>0812513754</td>\n",
       "      <td>9780812513752)</td>\n",
       "    </tr>\n",
       "    <tr>\n",
       "      <th>7</th>\n",
       "      <td>27774758</td>\n",
       "      <td>0812513754</td>\n",
       "      <td>9780812513752)</td>\n",
       "    </tr>\n",
       "    <tr>\n",
       "      <th>8</th>\n",
       "      <td>34511</td>\n",
       "      <td>0812513754</td>\n",
       "      <td>9780812513752)</td>\n",
       "    </tr>\n",
       "    <tr>\n",
       "      <th>9</th>\n",
       "      <td>9009637</td>\n",
       "      <td>0812513754</td>\n",
       "      <td>9780812513752)</td>\n",
       "    </tr>\n",
       "    <tr>\n",
       "      <th>10</th>\n",
       "      <td>22293224</td>\n",
       "      <td>0991055446</td>\n",
       "      <td>9780991055449)</td>\n",
       "    </tr>\n",
       "    <tr>\n",
       "      <th>11</th>\n",
       "      <td>11187932</td>\n",
       "      <td>1456325639</td>\n",
       "      <td>9781456325633)</td>\n",
       "    </tr>\n",
       "    <tr>\n",
       "      <th>12</th>\n",
       "      <td>15796700</td>\n",
       "      <td>1456325639</td>\n",
       "      <td>9781456325633)</td>\n",
       "    </tr>\n",
       "    <tr>\n",
       "      <th>13</th>\n",
       "      <td>4659</td>\n",
       "      <td>1456325639</td>\n",
       "      <td>9781456325633)</td>\n",
       "    </tr>\n",
       "    <tr>\n",
       "      <th>14</th>\n",
       "      <td>13453029</td>\n",
       "      <td>1456325639</td>\n",
       "      <td>9781456325633)</td>\n",
       "    </tr>\n",
       "    <tr>\n",
       "      <th>15</th>\n",
       "      <td>20801439</td>\n",
       "      <td>1456325639</td>\n",
       "      <td>9781456325633)</td>\n",
       "    </tr>\n",
       "    <tr>\n",
       "      <th>16</th>\n",
       "      <td>19549841</td>\n",
       "      <td>1456325639</td>\n",
       "      <td>9781456325633)</td>\n",
       "    </tr>\n",
       "    <tr>\n",
       "      <th>17</th>\n",
       "      <td>12983100</td>\n",
       "      <td>1456325639</td>\n",
       "      <td>9781456325633)</td>\n",
       "    </tr>\n",
       "    <tr>\n",
       "      <th>18</th>\n",
       "      <td>28009303</td>\n",
       "      <td>1456325639</td>\n",
       "      <td>9781456325633)</td>\n",
       "    </tr>\n",
       "    <tr>\n",
       "      <th>19</th>\n",
       "      <td>1499952</td>\n",
       "      <td>1456325639</td>\n",
       "      <td>9781456325633)</td>\n",
       "    </tr>\n",
       "  </tbody>\n",
       "</table>\n",
       "</div>"
      ],
      "text/plain": [
       "           n        isbn          isbn13\n",
       "0   27371034         The          Meluha\n",
       "1    7897851  184624417X  9781846244179)\n",
       "2   40121205  184624417X  9781846244179)\n",
       "3   43600950  1793378673  9781793378675)\n",
       "4   44575575  1793378673  9781793378675)\n",
       "5   17623975  0142422959  9780142422953)\n",
       "6      35231  0812513754  9780812513752)\n",
       "7   27774758  0812513754  9780812513752)\n",
       "8      34511  0812513754  9780812513752)\n",
       "9    9009637  0812513754  9780812513752)\n",
       "10  22293224  0991055446  9780991055449)\n",
       "11  11187932  1456325639  9781456325633)\n",
       "12  15796700  1456325639  9781456325633)\n",
       "13      4659  1456325639  9781456325633)\n",
       "14  13453029  1456325639  9781456325633)\n",
       "15  20801439  1456325639  9781456325633)\n",
       "16  19549841  1456325639  9781456325633)\n",
       "17  12983100  1456325639  9781456325633)\n",
       "18  28009303  1456325639  9781456325633)\n",
       "19   1499952  1456325639  9781456325633)"
      ]
     },
     "execution_count": 9,
     "metadata": {},
     "output_type": "execute_result"
    }
   ],
   "source": [
    "isbn.head(20)"
   ]
  },
  {
   "cell_type": "code",
   "execution_count": null,
   "metadata": {},
   "outputs": [],
   "source": []
  }
 ],
 "metadata": {
  "kernelspec": {
   "display_name": "Python 3",
   "language": "python",
   "name": "python3"
  },
  "language_info": {
   "codemirror_mode": {
    "name": "ipython",
    "version": 3
   },
   "file_extension": ".py",
   "mimetype": "text/x-python",
   "name": "python",
   "nbconvert_exporter": "python",
   "pygments_lexer": "ipython3",
   "version": "3.7.3"
  }
 },
 "nbformat": 4,
 "nbformat_minor": 2
}
